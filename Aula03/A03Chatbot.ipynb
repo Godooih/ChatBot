{
 "cells": [
  {
   "cell_type": "code",
   "execution_count": 2,
   "metadata": {},
   "outputs": [
    {
     "name": "stdout",
     "output_type": "stream",
     "text": [
      "Collecting groq\n",
      "  Downloading groq-0.18.0-py3-none-any.whl.metadata (14 kB)\n",
      "Collecting anyio<5,>=3.5.0 (from groq)\n",
      "  Downloading anyio-4.8.0-py3-none-any.whl.metadata (4.6 kB)\n",
      "Collecting distro<2,>=1.7.0 (from groq)\n",
      "  Downloading distro-1.9.0-py3-none-any.whl.metadata (6.8 kB)\n",
      "Collecting httpx<1,>=0.23.0 (from groq)\n",
      "  Downloading httpx-0.28.1-py3-none-any.whl.metadata (7.1 kB)\n",
      "Collecting pydantic<3,>=1.9.0 (from groq)\n",
      "  Downloading pydantic-2.10.6-py3-none-any.whl.metadata (30 kB)\n",
      "Collecting sniffio (from groq)\n",
      "  Downloading sniffio-1.3.1-py3-none-any.whl.metadata (3.9 kB)\n",
      "Requirement already satisfied: typing-extensions<5,>=4.10 in c:\\users\\thale\\appdata\\local\\packages\\pythonsoftwarefoundation.python.3.11_qbz5n2kfra8p0\\localcache\\local-packages\\python311\\site-packages (from groq) (4.12.2)\n",
      "Collecting idna>=2.8 (from anyio<5,>=3.5.0->groq)\n",
      "  Downloading idna-3.10-py3-none-any.whl.metadata (10 kB)\n",
      "Collecting certifi (from httpx<1,>=0.23.0->groq)\n",
      "  Downloading certifi-2025.1.31-py3-none-any.whl.metadata (2.5 kB)\n",
      "Collecting httpcore==1.* (from httpx<1,>=0.23.0->groq)\n",
      "  Downloading httpcore-1.0.7-py3-none-any.whl.metadata (21 kB)\n",
      "Collecting h11<0.15,>=0.13 (from httpcore==1.*->httpx<1,>=0.23.0->groq)\n",
      "  Downloading h11-0.14.0-py3-none-any.whl.metadata (8.2 kB)\n",
      "Collecting annotated-types>=0.6.0 (from pydantic<3,>=1.9.0->groq)\n",
      "  Downloading annotated_types-0.7.0-py3-none-any.whl.metadata (15 kB)\n",
      "Collecting pydantic-core==2.27.2 (from pydantic<3,>=1.9.0->groq)\n",
      "  Downloading pydantic_core-2.27.2-cp311-cp311-win_amd64.whl.metadata (6.7 kB)\n",
      "Downloading groq-0.18.0-py3-none-any.whl (121 kB)\n",
      "   ---------------------------------------- 0.0/121.9 kB ? eta -:--:--\n",
      "   ------------------------------------ --- 112.6/121.9 kB 2.2 MB/s eta 0:00:01\n",
      "   ---------------------------------------- 121.9/121.9 kB 1.8 MB/s eta 0:00:00\n",
      "Downloading anyio-4.8.0-py3-none-any.whl (96 kB)\n",
      "   ---------------------------------------- 0.0/96.0 kB ? eta -:--:--\n",
      "   ---------------------------------------- 96.0/96.0 kB 2.8 MB/s eta 0:00:00\n",
      "Downloading distro-1.9.0-py3-none-any.whl (20 kB)\n",
      "Downloading httpx-0.28.1-py3-none-any.whl (73 kB)\n",
      "   ---------------------------------------- 0.0/73.5 kB ? eta -:--:--\n",
      "   ---------------------------------------- 73.5/73.5 kB 4.0 MB/s eta 0:00:00\n",
      "Downloading httpcore-1.0.7-py3-none-any.whl (78 kB)\n",
      "   ---------------------------------------- 0.0/78.6 kB ? eta -:--:--\n",
      "   ---------------------------------------- 78.6/78.6 kB 4.6 MB/s eta 0:00:00\n",
      "Downloading pydantic-2.10.6-py3-none-any.whl (431 kB)\n",
      "   ---------------------------------------- 0.0/431.7 kB ? eta -:--:--\n",
      "   ------------------------------------- -- 399.4/431.7 kB 8.3 MB/s eta 0:00:01\n",
      "   ---------------------------------------- 431.7/431.7 kB 6.8 MB/s eta 0:00:00\n",
      "Downloading pydantic_core-2.27.2-cp311-cp311-win_amd64.whl (2.0 MB)\n",
      "   ---------------------------------------- 0.0/2.0 MB ? eta -:--:--\n",
      "   ---------- ----------------------------- 0.5/2.0 MB 16.2 MB/s eta 0:00:01\n",
      "   ---------------- ----------------------- 0.8/2.0 MB 10.1 MB/s eta 0:00:01\n",
      "   ----------------------- ---------------- 1.2/2.0 MB 9.4 MB/s eta 0:00:01\n",
      "   ---------------------------------- ----- 1.7/2.0 MB 9.8 MB/s eta 0:00:01\n",
      "   ---------------------------------------- 2.0/2.0 MB 10.5 MB/s eta 0:00:00\n",
      "Downloading sniffio-1.3.1-py3-none-any.whl (10 kB)\n",
      "Downloading annotated_types-0.7.0-py3-none-any.whl (13 kB)\n",
      "Downloading idna-3.10-py3-none-any.whl (70 kB)\n",
      "   ---------------------------------------- 0.0/70.4 kB ? eta -:--:--\n",
      "   ---------------------------------------- 70.4/70.4 kB 3.8 MB/s eta 0:00:00\n",
      "Downloading certifi-2025.1.31-py3-none-any.whl (166 kB)\n",
      "   ---------------------------------------- 0.0/166.4 kB ? eta -:--:--\n",
      "   ---------------------------------------- 166.4/166.4 kB 9.8 MB/s eta 0:00:00\n",
      "Downloading h11-0.14.0-py3-none-any.whl (58 kB)\n",
      "   ---------------------------------------- 0.0/58.3 kB ? eta -:--:--\n",
      "   ---------------------------------------- 58.3/58.3 kB ? eta 0:00:00\n",
      "Installing collected packages: sniffio, pydantic-core, idna, h11, distro, certifi, annotated-types, pydantic, httpcore, anyio, httpx, groq\n",
      "Successfully installed annotated-types-0.7.0 anyio-4.8.0 certifi-2025.1.31 distro-1.9.0 groq-0.18.0 h11-0.14.0 httpcore-1.0.7 httpx-0.28.1 idna-3.10 pydantic-2.10.6 pydantic-core-2.27.2 sniffio-1.3.1\n"
     ]
    },
    {
     "name": "stderr",
     "output_type": "stream",
     "text": [
      "\n",
      "[notice] A new release of pip is available: 24.0 -> 25.0.1\n",
      "[notice] To update, run: C:\\Users\\thale\\AppData\\Local\\Microsoft\\WindowsApps\\PythonSoftwareFoundation.Python.3.11_qbz5n2kfra8p0\\python.exe -m pip install --upgrade pip\n"
     ]
    }
   ],
   "source": [
    "#Instalando a biblioteca Groq\n",
    "!pip install groq"
   ]
  },
  {
   "cell_type": "code",
   "execution_count": 3,
   "metadata": {},
   "outputs": [],
   "source": [
    "from groq import Groq #realiza a importação das bibliotecas nescessarias para rodar a LLM\n",
    "#Inicializa o cliente com a chave da\n",
    "client = Groq(api_key='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')\n",
    "completion = client.chat.completions.create(\n",
    "    model=\"llama3-8b-8192\",\n",
    "    messages=[\n",
    "        {\"role\":\"system\",\"content\":\"Você é assistente do agricultor\"},\n",
    "        {\"role\":\"user\",\"content\":\"Qual a semente é indicada \\npara plantar em solo arenoso em Maio\"}\n",
    "    ],\n",
    "    temperature=0,\n",
    "    max_tokens=1024, #Ajusta o token\n",
    "    top_p=1,\n",
    "    stream= False\n",
    ")"
   ]
  },
  {
   "cell_type": "code",
   "execution_count": 4,
   "metadata": {},
   "outputs": [
    {
     "name": "stdout",
     "output_type": "stream",
     "text": [
      "Excelente pergunta!\n",
      "\n",
      "Em solo arenoso, é importante escolher sementes que sejam resistentes à seca e possam desenvolver raízes profundas para absorver água e nutrientes. Em Maio, é um bom momento para plantar sementes que sejam mais resistentes ao calor e à seca.\n",
      "\n",
      "Aqui estão algumas sementes que são indicadas para plantar em solo arenoso em Maio:\n",
      "\n",
      "1. Feijão: É uma leguminosa que se adapta bem a solos arenosos e é resistente à seca. É um bom escolha para Maio, pois o clima é mais quente e seco.\n",
      "2. Milho: O milho é uma cultura que se desenvolve bem em solos arenosos e é resistente à seca. É um bom escolha para Maio, pois o clima é mais quente e seco.\n",
      "3. Soja: A soja é outra leguminosa que se adapta bem a solos arenosos e é resistente à seca. É um bom escolha para Maio, pois o clima é mais quente e seco.\n",
      "4. Arroz: O arroz é uma cultura que se desenvolve bem em solos arenosos e é resistente à seca. É um bom escolha para Maio, pois o clima é mais quente e seco.\n",
      "5. Sorgo: O sorgo é uma cultura que se adapta bem a solos arenosos e é resistente à seca. É um bom escolha para Maio, pois o clima é mais quente e seco.\n",
      "\n",
      "Lembre-se de que é importante verificar as condições climáticas e de solo específicas do seu local antes de plantar. Além disso, é sempre recomendável consultar um especialista em agricultura ou um catálogo de sementes para obter mais informações sobre as sementes mais adequadas para o seu local.\n"
     ]
    }
   ],
   "source": [
    "# exibe a resposta gerada\n",
    "print(completion.choices[0].message.content)"
   ]
  },
  {
   "cell_type": "code",
   "execution_count": null,
   "metadata": {},
   "outputs": [],
   "source": []
  }
 ],
 "metadata": {
  "kernelspec": {
   "display_name": "Python 3",
   "language": "python",
   "name": "python3"
  },
  "language_info": {
   "codemirror_mode": {
    "name": "ipython",
    "version": 3
   },
   "file_extension": ".py",
   "mimetype": "text/x-python",
   "name": "python",
   "nbconvert_exporter": "python",
   "pygments_lexer": "ipython3",
   "version": "3.11.9"
  }
 },
 "nbformat": 4,
 "nbformat_minor": 2
}
