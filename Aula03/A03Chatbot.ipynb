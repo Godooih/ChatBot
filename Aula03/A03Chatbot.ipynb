{
 "cells": [
  {
   "cell_type": "code",
   "execution_count": 1,
   "metadata": {},
   "outputs": [],
   "source": [
    "#Instalando a biblioteca Groq\n",
    "#!pip install groq"
   ]
  },
  {
   "cell_type": "code",
   "execution_count": 2,
   "metadata": {},
   "outputs": [],
   "source": [
    "from groq import Groq #realiza a importação das bibliotecas nescessarias para rodar a LLM\n",
    "#Inicializa o cliente com a chave da\n",
    "client = Groq(api_key='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')\n",
    "completion = client.chat.completions.create(\n",
    "    model=\"llama3-8b-8192\",\n",
    "    messages=[\n",
    "        {\"role\":\"system\",\"content\":\"Você é assistente do agricultor\"},\n",
    "        {\"role\":\"user\",\"content\":\"Qual a semente é indicada \\npara plantar em solo arenoso em Maio\"}\n",
    "    ],\n",
    "    temperature=0,\n",
    "    max_tokens=1024, #Ajusta o token\n",
    "    top_p=1,\n",
    "    stream= False\n",
    ")"
   ]
  },
  {
   "cell_type": "code",
   "execution_count": 3,
   "metadata": {},
   "outputs": [
    {
     "name": "stdout",
     "output_type": "stream",
     "text": [
      "Excelente pergunta!\n",
      "\n",
      "Em solo arenoso, é importante escolher sementes que sejam resistentes à seca e possam desenvolver raízes profundas para absorver água e nutrientes. Em Maio, é um bom momento para plantar sementes que sejam mais resistentes ao calor e à seca.\n",
      "\n",
      "Aqui estão algumas sementes que são indicadas para plantar em solo arenoso em Maio:\n",
      "\n",
      "1. Feijão: É uma leguminosa que se adapta bem a solos arenosos e é resistente à seca. É um bom escolha para Maio, pois o clima é mais quente e seco.\n",
      "2. Milho: O milho é uma cultura que se desenvolve bem em solos arenosos e é resistente à seca. É um bom escolha para Maio, pois o clima é mais quente e seco.\n",
      "3. Soja: A soja é outra leguminosa que se adapta bem a solos arenosos e é resistente à seca. É um bom escolha para Maio, pois o clima é mais quente e seco.\n",
      "4. Arroz: O arroz é uma cultura que se desenvolve bem em solos arenosos e é resistente à seca. É um bom escolha para Maio, pois o clima é mais quente e seco.\n",
      "5. Sorgo: O sorgo é uma cultura que se adapta bem a solos arenosos e é resistente à seca. É um bom escolha para Maio, pois o clima é mais quente e seco.\n",
      "\n",
      "Lembre-se de que é importante verificar as condições climáticas e de solo específicas do seu local antes de plantar. Além disso, é sempre recomendável consultar um especialista em agricultura ou um catálogo de sementes para obter mais informações sobre as sementes mais adequadas para o seu local.\n"
     ]
    }
   ],
   "source": [
    "# exibe a resposta gerada\n",
    "print(completion.choices[0].message.content)"
   ]
  },
  {
   "cell_type": "code",
   "execution_count": 4,
   "metadata": {},
   "outputs": [],
   "source": [
    "import os # biblioteca do sistema operacional\n",
    "from groq import Groq"
   ]
  },
  {
   "cell_type": "code",
   "execution_count": null,
   "metadata": {},
   "outputs": [],
   "source": [
    "#Define sua chave da API do GROQ\n",
    "GROQ_API_KEY = os.getenv('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')\n",
    "client = Groq(api_key='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')\n",
    "\n",
    "#Solicita que o usuario digite o prompt\n",
    "\n",
    "user_prompt=input(\"Digite sua pergunta sobre agricultura: \")\n",
    "\n",
    "# Faz a solicitaçao ao modelo\n",
    "completion = client.chat.completions.create(\n",
    "  model=\"llama3-8b-8192\",\n",
    "  messages=[\n",
    "     {\"role\":\"system\",\"content\":\"Voce é assistente de agricultor\"},\n",
    "     {\"role\":\"user\",\"content\":user_prompt}\n",
    "\n",
    "  ],  \n",
    "  temperature=0,\n",
    "  max_tokens=1024, #ajusta o token,\n",
    "  top_p=1,\n",
    "  stream = False\n",
    "\n",
    ")\n",
    "# Exibe a resposta \n",
    "print('\\n Resposta do assistente: \\n')\n",
    "print(completion.choices[0].message.content + \"\\n\")"
   ]
  },
  {
   "cell_type": "code",
   "execution_count": null,
   "metadata": {},
   "outputs": [],
   "source": []
  }
 ],
 "metadata": {
  "kernelspec": {
   "display_name": "Python 3",
   "language": "python",
   "name": "python3"
  },
  "language_info": {
   "codemirror_mode": {
    "name": "ipython",
    "version": 3
   },
   "file_extension": ".py",
   "mimetype": "text/x-python",
   "name": "python",
   "nbconvert_exporter": "python",
   "pygments_lexer": "ipython3",
   "version": "3.11.9"
  }
 },
 "nbformat": 4,
 "nbformat_minor": 2
}
